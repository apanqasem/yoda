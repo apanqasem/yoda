{
 "cells": [
  {
   "cell_type": "markdown",
   "metadata": {},
   "source": [
    "## Conflict Misses and Set-Associativity  \n",
    "\n",
    "In this tutorial we will learn about set-associativity. This feature is added to caches to avoid conflict misses and reduce miss rates. \n",
    "\n",
    "\n",
    "### YODA Set-up\n",
    "\n",
    "First let's set up our YODA environment. Add the Yoda modules directory to sys.path. `modules` directory is located in the top-level of the Yoda installation. This tutorial is located in the `examples` directory and so we append the `../modules` to sys.path. We will then import the cache module from the YODA package. "
   ]
  },
  {
   "cell_type": "code",
   "execution_count": 1,
   "metadata": {},
   "outputs": [],
   "source": [
    "import sys\n",
    "sys.path.append(\"../modules\")\n",
    "from cache import Cache"
   ]
  },
  {
   "cell_type": "markdown",
   "metadata": {},
   "source": [
    "Now, let's create a cache object."
   ]
  },
  {
   "cell_type": "code",
   "execution_count": 2,
   "metadata": {},
   "outputs": [
    {
     "name": "stdout",
     "output_type": "stream",
     "text": [
      "NULL cache created. This cache has no entries!\n"
     ]
    }
   ],
   "source": [
    "cache = Cache()"
   ]
  },
  {
   "cell_type": "markdown",
   "metadata": {},
   "source": [
    "### Conflict misses\n",
    "\n",
    "Let's create a direct-mapped cache, like our earlier example but this time we will use a different function that takes two arguments. The first argument specifies the number of entries like before. The second aergument specifies the associativity (more on this later)"
   ]
  },
  {
   "cell_type": "code",
   "execution_count": 3,
   "metadata": {},
   "outputs": [
    {
     "name": "stdout",
     "output_type": "stream",
     "text": [
      "Cache created:\n",
      "\t1-way associative with 8 entries\n",
      "\t8 sets per way\n",
      "************ Cache ************\n",
      "+---+\n",
      "| X |\n",
      "+---+\n",
      "| X |\n",
      "+---+\n",
      "| X |\n",
      "+---+\n",
      "| X |\n",
      "+---+\n",
      "| X |\n",
      "+---+\n",
      "| X |\n",
      "+---+\n",
      "| X |\n",
      "+---+\n",
      "| X |\n",
      "+---+\n",
      "********************************\n"
     ]
    }
   ],
   "source": [
    "cache.create(8, 1)"
   ]
  },
  {
   "cell_type": "markdown",
   "metadata": {},
   "source": [
    "We have created a direct-mapped cache with 8 entries. Initially, the cache is empty (i.e., all values are invalid). So let's populate the cache with some. Let's say, our program makes the requests to the following memory locations"
   ]
  },
  {
   "cell_type": "code",
   "execution_count": 4,
   "metadata": {
    "scrolled": true
   },
   "outputs": [
    {
     "name": "stdout",
     "output_type": "stream",
     "text": [
      "--- [Cache Miss] Did not find data for addr: 3\n",
      "--- [Cache Miss] Did not find data for addr: 17\n",
      "--- [Cache Miss] Did not find data for addr: 24\n"
     ]
    }
   ],
   "source": [
    "cache.update(3)\n",
    "cache.update(17)\n",
    "cache.update(24)"
   ]
  },
  {
   "cell_type": "markdown",
   "metadata": {},
   "source": [
    "Let's take a look at the contents "
   ]
  },
  {
   "cell_type": "code",
   "execution_count": 5,
   "metadata": {},
   "outputs": [
    {
     "name": "stdout",
     "output_type": "stream",
     "text": [
      "************ Cache ************\n",
      "+---+\n",
      "| 3 |\n",
      "+---+\n",
      "| 2 |\n",
      "+---+\n",
      "| X |\n",
      "+---+\n",
      "| 0 |\n",
      "+---+\n",
      "| X |\n",
      "+---+\n",
      "| X |\n",
      "+---+\n",
      "| X |\n",
      "+---+\n",
      "| X |\n",
      "+---+\n",
      "********************************\n"
     ]
    }
   ],
   "source": [
    "cache.display()"
   ]
  },
  {
   "cell_type": "markdown",
   "metadata": {},
   "source": [
    "All CPU requests were resulted in cold misses as the cache is empty. Now if the CPU requests any of the values agains we will get hits. Let's consider the following CPU requests"
   ]
  },
  {
   "cell_type": "code",
   "execution_count": 6,
   "metadata": {},
   "outputs": [
    {
     "name": "stdout",
     "output_type": "stream",
     "text": [
      "--- [Cache Hit] Found : 3 in Way 0, Index 3\n",
      "--- [Cache Miss] Did not find data for addr: 11\n",
      "--- [Cache Miss] Did not find data for addr: 3\n"
     ]
    }
   ],
   "source": [
    "cache.update(3)\n",
    "cache.update(11) \n",
    "cache.update(3)"
   ]
  },
  {
   "cell_type": "markdown",
   "metadata": {},
   "source": [
    "*Why did the second reference to memory location 3 miss in cache?*\n",
    "\n",
    "It's because memory location 11 maps to the same cache index. So when data from address 11 is brought in 3 is kicked out. This is unfortunate because clearly there is more space in the cache that is not being utilized. This type of miss is known as a conflcit miss. "
   ]
  },
  {
   "cell_type": "code",
   "execution_count": 7,
   "metadata": {},
   "outputs": [
    {
     "name": "stdout",
     "output_type": "stream",
     "text": [
      "************ Cache ************\n",
      "+---+\n",
      "| 3 |\n",
      "+---+\n",
      "| 2 |\n",
      "+---+\n",
      "| X |\n",
      "+---+\n",
      "| 0 |\n",
      "+---+\n",
      "| X |\n",
      "+---+\n",
      "| X |\n",
      "+---+\n",
      "| X |\n",
      "+---+\n",
      "| X |\n",
      "+---+\n",
      "********************************\n"
     ]
    }
   ],
   "source": [
    "cache.display()"
   ]
  },
  {
   "cell_type": "markdown",
   "metadata": {},
   "source": [
    "## Set-Associativity\n",
    "\n",
    "Conflict misses can be avoided by adding flexiblity in mapping. Instead of having just one slot where a cache address, we allow a specific address to map to multiple slot. We can create a 2-way set associative in the following way."
   ]
  },
  {
   "cell_type": "code",
   "execution_count": 8,
   "metadata": {},
   "outputs": [
    {
     "name": "stdout",
     "output_type": "stream",
     "text": [
      "Cache created:\n",
      "\t2-way associative with 8 entries\n",
      "\t4 sets per way\n",
      "************ Cache ************\n",
      "+---+---+\n",
      "| X | X |\n",
      "+---+---+\n",
      "| X | X |\n",
      "+---+---+\n",
      "| X | X |\n",
      "+---+---+\n",
      "| X | X |\n",
      "+---+---+\n",
      "********************************\n"
     ]
    }
   ],
   "source": [
    "cache.create(8,2)"
   ]
  },
  {
   "cell_type": "markdown",
   "metadata": {},
   "source": [
    "Note, this cache is the same size as the previous one. It is just organized differently"
   ]
  },
  {
   "cell_type": "code",
   "execution_count": 9,
   "metadata": {},
   "outputs": [
    {
     "name": "stdout",
     "output_type": "stream",
     "text": [
      "--- [Cache Miss] Did not find data for addr: 3\n",
      "--- [Cache Miss] Did not find data for addr: 17\n",
      "--- [Cache Miss] Did not find data for addr: 24\n"
     ]
    }
   ],
   "source": [
    "cache.update(3)\n",
    "cache.update(17)\n",
    "cache.update(24)"
   ]
  },
  {
   "cell_type": "code",
   "execution_count": 11,
   "metadata": {},
   "outputs": [
    {
     "name": "stdout",
     "output_type": "stream",
     "text": [
      "************ Cache ************\n",
      "+---+---+\n",
      "| 6 | X |\n",
      "+---+---+\n",
      "| 4 | X |\n",
      "+---+---+\n",
      "| X | X |\n",
      "+---+---+\n",
      "| 0 | X |\n",
      "+---+---+\n",
      "********************************\n"
     ]
    }
   ],
   "source": [
    "cache.display()"
   ]
  },
  {
   "cell_type": "markdown",
   "metadata": {},
   "source": [
    "First three requests are misses as before. Now lets try the next set of requests. "
   ]
  },
  {
   "cell_type": "code",
   "execution_count": 12,
   "metadata": {},
   "outputs": [
    {
     "name": "stdout",
     "output_type": "stream",
     "text": [
      "--- [Cache Hit] Found : 3 in Way 0, Index 3\n",
      "--- [Cache Miss] Did not find data for addr: 11\n",
      "--- [Cache Hit] Found : 3 in Way 1, Index 3\n"
     ]
    }
   ],
   "source": [
    "cache.update(3)\n",
    "cache.update(11) \n",
    "cache.update(3)"
   ]
  },
  {
   "cell_type": "code",
   "execution_count": 13,
   "metadata": {},
   "outputs": [
    {
     "name": "stdout",
     "output_type": "stream",
     "text": [
      "************ Cache ************\n",
      "+---+---+\n",
      "| 6 | X |\n",
      "+---+---+\n",
      "| 4 | X |\n",
      "+---+---+\n",
      "| X | X |\n",
      "+---+---+\n",
      "| 0 | 0 |\n",
      "+---+---+\n",
      "********************************\n"
     ]
    }
   ],
   "source": [
    "cache.display()"
   ]
  },
  {
   "cell_type": "markdown",
   "metadata": {},
   "source": [
    "We have a hit!"
   ]
  },
  {
   "cell_type": "code",
   "execution_count": null,
   "metadata": {},
   "outputs": [],
   "source": []
  }
 ],
 "metadata": {
  "kernelspec": {
   "display_name": "Python 3",
   "language": "python",
   "name": "python3"
  },
  "language_info": {
   "codemirror_mode": {
    "name": "ipython",
    "version": 3
   },
   "file_extension": ".py",
   "mimetype": "text/x-python",
   "name": "python",
   "nbconvert_exporter": "python",
   "pygments_lexer": "ipython3",
   "version": "3.7.6"
  }
 },
 "nbformat": 4,
 "nbformat_minor": 4
}
