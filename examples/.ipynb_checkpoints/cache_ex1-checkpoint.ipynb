{
 "cells": [
  {
   "cell_type": "markdown",
   "metadata": {},
   "source": [
    "## Conflict Misses and Set-Associativity  \n",
    "\n",
    "In this tutorial we will learn about set-associativity. This feature is added to caches to avoid conflict misses and reduce miss rates. \n",
    "\n",
    "\n",
    "### YODA Set-up\n",
    "\n",
    "First let's set up our YODA environment. Add the Yoda modules directory to sys.path. `modules` directory is located in the top-level of the Yoda installation. This tutorial is located in the `examples` directory and so we append the `../modules` to sys.path. We will then import the cache module from the YODA package. "
   ]
  },
  {
   "cell_type": "code",
   "execution_count": 1,
   "metadata": {},
   "outputs": [],
   "source": [
    "import sys\n",
    "sys.path.append(\"../modules\")\n",
    "from cache import Cache"
   ]
  },
  {
   "cell_type": "markdown",
   "metadata": {},
   "source": [
    "Now, let's create a cache object."
   ]
  },
  {
   "cell_type": "code",
   "execution_count": 2,
   "metadata": {},
   "outputs": [
    {
     "name": "stdout",
     "output_type": "stream",
     "text": [
      "NULL cache created. This cache has no entries!\n"
     ]
    }
   ],
   "source": [
    "cache = Cache()"
   ]
  },
  {
   "cell_type": "markdown",
   "metadata": {},
   "source": [
    "### Conflict misses\n",
    "\n",
    "Let's create a direct-mapped cache, like our earlier example but this time we will use a different function that takes two arguments. The first argument specifies the number of entries like before. The second aergument specifies the associativity (more on this later)"
   ]
  },
  {
   "cell_type": "code",
   "execution_count": 3,
   "metadata": {},
   "outputs": [
    {
     "name": "stdout",
     "output_type": "stream",
     "text": [
      "Cache created:\n",
      "\t2-way associative with 4 entries\n",
      "\t2 sets per way\n",
      "************ Cache ************\n",
      "+---+---+\n",
      "| X | X |\n",
      "+---+---+\n",
      "| X | X |\n",
      "+---+---+\n",
      "********************************\n"
     ]
    }
   ],
   "source": [
    "cache.create(4, 2)"
   ]
  },
  {
   "cell_type": "markdown",
   "metadata": {},
   "source": [
    "We have created a 2-way set-associate cache with 4 entries. Initially, the cache is empty (i.e., all values are invalid). So let's populate the cache with some. Let's say, our program makes the requests to the following memory locations\n",
    "\n",
    "`1 3 5 1 3 1`\n",
    "\n",
    "We can ask YODA to give us the indices for these addresses"
   ]
  },
  {
   "cell_type": "code",
   "execution_count": 4,
   "metadata": {},
   "outputs": [
    {
     "data": {
      "text/plain": [
       "1"
      ]
     },
     "execution_count": 4,
     "metadata": {},
     "output_type": "execute_result"
    }
   ],
   "source": [
    "cache.get_index(1)"
   ]
  },
  {
   "cell_type": "code",
   "execution_count": 5,
   "metadata": {},
   "outputs": [
    {
     "data": {
      "text/plain": [
       "1"
      ]
     },
     "execution_count": 5,
     "metadata": {},
     "output_type": "execute_result"
    }
   ],
   "source": [
    "cache.get_index(3)"
   ]
  },
  {
   "cell_type": "code",
   "execution_count": 6,
   "metadata": {},
   "outputs": [
    {
     "data": {
      "text/plain": [
       "1"
      ]
     },
     "execution_count": 6,
     "metadata": {},
     "output_type": "execute_result"
    }
   ],
   "source": [
    "cache.get_index(5)"
   ]
  },
  {
   "cell_type": "markdown",
   "metadata": {},
   "source": [
    "We can also ask YODA to give us the tags for these addresses"
   ]
  },
  {
   "cell_type": "code",
   "execution_count": 8,
   "metadata": {},
   "outputs": [
    {
     "data": {
      "text/plain": [
       "0"
      ]
     },
     "execution_count": 8,
     "metadata": {},
     "output_type": "execute_result"
    }
   ],
   "source": [
    "cache.get_tag(1)"
   ]
  },
  {
   "cell_type": "code",
   "execution_count": 7,
   "metadata": {},
   "outputs": [
    {
     "data": {
      "text/plain": [
       "1"
      ]
     },
     "execution_count": 7,
     "metadata": {},
     "output_type": "execute_result"
    }
   ],
   "source": [
    "cache.get_tag(3)"
   ]
  },
  {
   "cell_type": "code",
   "execution_count": 9,
   "metadata": {},
   "outputs": [
    {
     "data": {
      "text/plain": [
       "0"
      ]
     },
     "execution_count": 9,
     "metadata": {},
     "output_type": "execute_result"
    }
   ],
   "source": [
    "cache.get_tag(1)"
   ]
  },
  {
   "cell_type": "code",
   "execution_count": 10,
   "metadata": {
    "scrolled": true
   },
   "outputs": [
    {
     "name": "stdout",
     "output_type": "stream",
     "text": [
      "--- [Cache Miss] Did not find data for addr: 1\n",
      "    Cache block has invalid entry \n",
      "--- [Cache Miss] Did not find data for addr: 1\n",
      "    Cache block has invalid entry \n"
     ]
    }
   ],
   "source": [
    "cache.update(1)"
   ]
  },
  {
   "cell_type": "markdown",
   "metadata": {},
   "source": [
    "Let's take a look at the contents "
   ]
  },
  {
   "cell_type": "code",
   "execution_count": 11,
   "metadata": {},
   "outputs": [
    {
     "name": "stdout",
     "output_type": "stream",
     "text": [
      "************ Cache ************\n",
      "+---+---+\n",
      "| X | X |\n",
      "+---+---+\n",
      "| 0 | X |\n",
      "+---+---+\n",
      "********************************\n"
     ]
    }
   ],
   "source": [
    "cache.display()"
   ]
  },
  {
   "cell_type": "markdown",
   "metadata": {},
   "source": [
    "All CPU requests resulted in cold misses as the cache is empty. Following the miss the cahce has been update with the request value. 'X' denotes we an invalid entry. The integer value represents the tag. The actual data in the address is now shown. \n",
    "\n",
    "Now if the CPU requests any of the values again, we will get hits. For example, "
   ]
  },
  {
   "cell_type": "code",
   "execution_count": 12,
   "metadata": {
    "scrolled": true
   },
   "outputs": [
    {
     "name": "stdout",
     "output_type": "stream",
     "text": [
      "--- [Cache Miss] Did not find data for addr: 3\n",
      "    Tag mismatch: Addr Tag = 1 Stored Tag: 0\n"
     ]
    }
   ],
   "source": [
    "cache.update(3)"
   ]
  },
  {
   "cell_type": "markdown",
   "metadata": {},
   "source": [
    "Now, let's display again ..."
   ]
  },
  {
   "cell_type": "code",
   "execution_count": 13,
   "metadata": {},
   "outputs": [
    {
     "name": "stdout",
     "output_type": "stream",
     "text": [
      "************ Cache ************\n",
      "+---+---+\n",
      "| X | X |\n",
      "+---+---+\n",
      "| 0 | 1 |\n",
      "+---+---+\n",
      "********************************\n"
     ]
    }
   ],
   "source": [
    "cache.display()"
   ]
  },
  {
   "cell_type": "code",
   "execution_count": 14,
   "metadata": {},
   "outputs": [
    {
     "name": "stdout",
     "output_type": "stream",
     "text": [
      "--- [Cache Miss] Did not find data for addr: 5\n",
      "    Tag mismatch: Addr Tag = 2 Stored Tag: 0\n"
     ]
    }
   ],
   "source": [
    "cache.update(5) "
   ]
  },
  {
   "cell_type": "code",
   "execution_count": 15,
   "metadata": {},
   "outputs": [
    {
     "name": "stdout",
     "output_type": "stream",
     "text": [
      "************ Cache ************\n",
      "+---+---+\n",
      "| X | X |\n",
      "+---+---+\n",
      "| 2 | 1 |\n",
      "+---+---+\n",
      "********************************\n"
     ]
    }
   ],
   "source": [
    "cache.display()"
   ]
  },
  {
   "cell_type": "code",
   "execution_count": 16,
   "metadata": {},
   "outputs": [
    {
     "name": "stdout",
     "output_type": "stream",
     "text": [
      "--- [Cache Miss] Did not find data for addr: 1\n",
      "    Tag mismatch: Addr Tag = 0 Stored Tag: 2\n"
     ]
    }
   ],
   "source": [
    "cache.update(1)"
   ]
  },
  {
   "cell_type": "code",
   "execution_count": 17,
   "metadata": {},
   "outputs": [
    {
     "name": "stdout",
     "output_type": "stream",
     "text": [
      "************ Cache ************\n",
      "+---+---+\n",
      "| X | X |\n",
      "+---+---+\n",
      "| 2 | 0 |\n",
      "+---+---+\n",
      "********************************\n"
     ]
    }
   ],
   "source": [
    "cache.display()"
   ]
  },
  {
   "cell_type": "code",
   "execution_count": 18,
   "metadata": {},
   "outputs": [
    {
     "name": "stdout",
     "output_type": "stream",
     "text": [
      "--- [Cache Miss] Did not find data for addr: 3\n",
      "    Tag mismatch: Addr Tag = 1 Stored Tag: 2\n"
     ]
    }
   ],
   "source": [
    "cache.update(3)"
   ]
  },
  {
   "cell_type": "code",
   "execution_count": 19,
   "metadata": {},
   "outputs": [
    {
     "name": "stdout",
     "output_type": "stream",
     "text": [
      "************ Cache ************\n",
      "+---+---+\n",
      "| X | X |\n",
      "+---+---+\n",
      "| 1 | 0 |\n",
      "+---+---+\n",
      "********************************\n"
     ]
    }
   ],
   "source": [
    "cache.display()"
   ]
  },
  {
   "cell_type": "code",
   "execution_count": 20,
   "metadata": {},
   "outputs": [
    {
     "name": "stdout",
     "output_type": "stream",
     "text": [
      "--- [Cache Miss] Did not find data for addr: 1\n",
      "    Tag mismatch: Addr Tag = 0 Stored Tag: 1\n"
     ]
    }
   ],
   "source": [
    "cache.update(1)"
   ]
  },
  {
   "cell_type": "code",
   "execution_count": 21,
   "metadata": {},
   "outputs": [
    {
     "name": "stdout",
     "output_type": "stream",
     "text": [
      "************ Cache ************\n",
      "+---+---+\n",
      "| X | X |\n",
      "+---+---+\n",
      "| 1 | 0 |\n",
      "+---+---+\n",
      "********************************\n"
     ]
    }
   ],
   "source": [
    "cache.display()"
   ]
  },
  {
   "cell_type": "markdown",
   "metadata": {},
   "source": [
    "So when data from address 11 is brought in 3 is kicked out. "
   ]
  },
  {
   "cell_type": "markdown",
   "metadata": {},
   "source": [
    "We have a hit!"
   ]
  }
 ],
 "metadata": {
  "kernelspec": {
   "display_name": "Python 3 (ipykernel)",
   "language": "python",
   "name": "python3"
  },
  "language_info": {
   "codemirror_mode": {
    "name": "ipython",
    "version": 3
   },
   "file_extension": ".py",
   "mimetype": "text/x-python",
   "name": "python",
   "nbconvert_exporter": "python",
   "pygments_lexer": "ipython3",
   "version": "3.11.7"
  }
 },
 "nbformat": 4,
 "nbformat_minor": 4
}
